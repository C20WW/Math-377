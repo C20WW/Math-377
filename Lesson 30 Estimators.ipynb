{
 "cells": [
  {
   "cell_type": "code",
   "execution_count": 1,
   "metadata": {},
   "outputs": [],
   "source": [
    "from datascience import *\n",
    "import numpy as np\n",
    "from math import *\n",
    "from scipy import stats\n",
    "import matplotlib.pyplot as plt\n",
    "%matplotlib inline"
   ]
  },
  {
   "cell_type": "markdown",
   "metadata": {},
   "source": [
    "## Lesson 30: Properties of Estimators"
   ]
  },
  {
   "cell_type": "markdown",
   "metadata": {},
   "source": [
    "Now that we have seen two different ways to obtain parameter estimates, we will now look into ways to evaluate estimators. What makes an estimator a good estimator? We have briefly discussed bias, but we'll also discuss consistency. "
   ]
  },
  {
   "cell_type": "markdown",
   "metadata": {},
   "source": [
    "### Bias\n",
    "\n",
    "(Review from Lesson 28). If we use an iid random sample to obtain an estimate of some parameter $\\theta$, this estimate ($\\hat{\\theta}$) is a random variable. Each time I collect a new sample, I will get a different $\\hat{\\theta}$. Ideally, the distribution of this $\\hat{\\theta}$ should have an average (expected value) of $\\theta$. \n",
    "\n",
    "If $E(\\hat{\\theta})=\\theta$, then $\\hat{\\theta}$ is said to be unbiased. "
   ]
  },
  {
   "cell_type": "markdown",
   "metadata": {},
   "source": [
    "### Example 1: Uniform Distribution\n",
    "\n",
    "Suppose $X_1,X_2,...,X_n$ is an iid sequence of random variables from the continuous uniform distribution on the domain $0 \\leq X \\leq b$ with unknown parameter $b$. From lessons 28, we found that the method of moments estimate of $b$ is $2\\bar{X}$. \n",
    "\n",
    "Is this estimate biased? Particularly, find $E(2\\bar{X})$. \n"
   ]
  },
  {
   "cell_type": "markdown",
   "metadata": {},
   "source": [
    "$\\begin{align}\n",
    "E(2\\bar{X})&=2E(\\bar{X})\\\\\n",
    "&=2E(X)\\\\\n",
    "&=2E(\\frac{X_1+X_2+...+X_n}{n})\\\\\n",
    "&=\\frac{2}{n}E(X_1+X_2+...+X_n)\\\\\n",
    "&=\\frac{2}{n}(n)E(X_i)\\\\\n",
    "&=2E(X_i)\\\\\n",
    "&=2\\left(\\frac{b}{2}\\right)\\\\\n",
    "&=b\n",
    "\\end{align}$\n",
    "\n",
    "Thus, the method of moments estimate is not biased, since $E(\\hat{b})=b$.\n",
    "\n",
    "*Class Note: $E(\\bar{X})=E(X)$ is a numerical law, applicable in all situations.*"
   ]
  },
  {
   "cell_type": "markdown",
   "metadata": {},
   "source": [
    "### Example 2: Exponential Distribution\n",
    "\n",
    "Suppose $X_1,X_2,...,X_n$ is an iid sequence of random variables from the exponential distribution with unknown parameter $\\lambda$. From lessons 28 and 29, we found that the method of moments and maximum likelihood estimates are both $\\frac{1}{\\bar{X}}$. \n",
    "\n",
    "Is this estimate biased? For this exercise, assume $\\lambda=5$ and the size of each sample is 20. You will probably find it easier to do this via simulation (use `scipy` to generate a random sample from the exponential distribution with your choice of $\\lambda$. Use this sample to obtain the estimate. Repeat this process many times to get a distribution $\\hat{\\lambda}$.) "
   ]
  },
  {
   "cell_type": "code",
   "execution_count": 18,
   "metadata": {},
   "outputs": [
    {
     "data": {
      "text/plain": [
       "(array([ 525., 3001., 3460., 1927.,  725.,  250.,   83.,   17.,    8.,\n",
       "           4.]),\n",
       " array([ 2.49409778,  3.57096131,  4.64782484,  5.72468836,  6.80155189,\n",
       "         7.87841541,  8.95527894, 10.03214247, 11.10900599, 12.18586952,\n",
       "        13.26273304]),\n",
       " <a list of 10 Patch objects>)"
      ]
     },
     "execution_count": 18,
     "metadata": {},
     "output_type": "execute_result"
    },
    {
     "data": {
      "text/plain": [
       "5.248992325374288"
      ]
     },
     "execution_count": 18,
     "metadata": {},
     "output_type": "execute_result"
    },
    {
     "data": {
      "image/png": "[encoded data removed]",
      "text/plain": [
       "<Figure size 432x288 with 1 Axes>"
      ]
     },
     "metadata": {},
     "output_type": "display_data"
    }
   ],
   "source": [
    "l,n=5,20\n",
    "lDist = make_array()\n",
    "\n",
    "for _ in np.arange(10000):\n",
    "    # Get single sample\n",
    "    X = stats.expon.rvs(scale=1/l,size=n)\n",
    "    # Get the estimate for the parameter\n",
    "    est = 1/(np.mean(X))\n",
    "    lDist = np.append(lDist, est)\n",
    "    \n",
    "plt.hist(lDist);\n",
    "\n",
    "np.mean(lDist)\n",
    "\n",
    "#Fun code: lDist = [1/np.mean(stats.expon.rvs(scale=1/l,size=m)) for _ in np.arange(10000)]"
   ]
  },
  {
   "cell_type": "markdown",
   "metadata": {},
   "source": [
    "*The estimate **IS** biased, since the distribution's mean tends to be about 0.25 too high. Doubling the sample size will halve the bias, making the estimate asymptotically unbiased.*"
   ]
  },
  {
   "cell_type": "markdown",
   "metadata": {},
   "source": [
    "Given: since $X_i\\text{~Exp}(\\lambda)$, then $\\sum_{i=1}^n X_i \\text{~Gamma}(n,\\lambda)$.\n",
    "\n",
    "$\\begin{align}\n",
    "E\\left(\\frac{1}{\\bar{X}}\\right)&=E\\left(\\frac{n}{X_1+X_2+...+X_n}\\right)\n",
    "\\end{align}$"
   ]
  },
  {
   "cell_type": "markdown",
   "metadata": {},
   "source": [
    "*Class note: $E({1 \\over \\bar{X}})\\neq{1 \\over E(\\bar{X})}$*"
   ]
  },
  {
   "cell_type": "markdown",
   "metadata": {},
   "source": [
    "## Consistency\n",
    "\n",
    "An estimator is considered consistent if for any $\\epsilon >0$, \n",
    "\n",
    "$$\n",
    "\\underset{n \\to \\infty}{\\lim} P(|\\hat{\\theta}_n -\\theta|<\\epsilon)=1\n",
    "$$\n",
    "\n",
    "This is just a fancy way of saying that as $n$ increases, the estimator tends to get closer to $\\theta$. "
   ]
  },
  {
   "cell_type": "markdown",
   "metadata": {},
   "source": [
    "### Lemma\n",
    "\n",
    "An estimator is consistent if it is unbiased and if $\\underset{n \\to \\infty}{\\lim} Var(\\hat{\\theta}_n)=0$. In other words, an unbiased estimator is consistent if its variance goes to zero as sample size goes to infinity. "
   ]
  },
  {
   "cell_type": "markdown",
   "metadata": {},
   "source": [
    "### Example 3: Uniform Distribution\n",
    "\n",
    "In Example 1, we showed that the method of moments estimator for $b$ is unbiased. Is it also consistent? What is the variance of this estimator? What happens to this variance as $n$ increases? "
   ]
  },
  {
   "cell_type": "markdown",
   "metadata": {},
   "source": [
    "$$\n",
    "\\begin{align}\n",
    "Var(\\hat{b}_{MoM})&=Var(2\\bar{X})\\\\\n",
    "&=4 Var(\\frac{x_1+x_2+...+x_n}{n})\\\\\n",
    "&=\\frac{4}{n^2}(Var(x_1)+Var(x_2)+...+Var(x_n))\\\\\n",
    "&=\\frac{4}{n}Var(x)\\\\\n",
    "Var(\\hat{b}_{MoM})&=\\frac{4\\sigma^2}{n}\\\\\n",
    "\\lim_{n\\to\\infty}Var(\\hat{b}_{MoM})&=0\n",
    "\\end{align}\n",
    "$$"
   ]
  },
  {
   "cell_type": "markdown",
   "metadata": {},
   "source": [
    "*The estimator is consistent, since the variance has a 1/n term that approaches 0.*"
   ]
  },
  {
   "cell_type": "markdown",
   "metadata": {},
   "source": [
    "### Example 4: Normal Distribution\n",
    "\n",
    "Suppose $X_1,X_2,...,X_n$ is an iid sequence of random variables from the normal distribution with unknown mean and standard deviation. The method of moments (and maximum likelihood) estimator of $\\mu$ is simply $\\bar{X}$. We have already established that this estimate is unbiased. Is it consistent? "
   ]
  },
  {
   "cell_type": "markdown",
   "metadata": {},
   "source": [
    "$$\n",
    "\\begin{align}\n",
    "Var(\\hat{\\mu})&=Var(\\bar{X})\\\\\n",
    "&=\\frac{1}{n^2}Var(x_1+x_2+...+x_n)\\\\\n",
    "&=\\frac{\\sigma^2}{n}\n",
    "\\end{align}\n",
    "$$\n",
    "\n",
    "*Just like with the Uniform disytibution, the estimator is consistent.*"
   ]
  },
  {
   "cell_type": "markdown",
   "metadata": {},
   "source": [
    "## Weak Law of Large Numbers\n",
    "\n",
    "It turns out that for all distributions, the sample mean is a consistent estimator for the population mean. This is known as the Weak Law of Large Numbers. "
   ]
  },
  {
   "cell_type": "code",
   "execution_count": 2,
   "metadata": {},
   "outputs": [
    {
     "data": {
      "text/plain": [
       "[<matplotlib.lines.Line2D at 0xafd9160>]"
      ]
     },
     "execution_count": 2,
     "metadata": {},
     "output_type": "execute_result"
    },
    {
     "data": {
      "image/png": "[encoded data removed]",
      "text/plain": [
       "<Figure size 432x288 with 1 Axes>"
      ]
     },
     "metadata": {},
     "output_type": "display_data"
    }
   ],
   "source": [
    "ns=np.arange(1,10001)\n",
    "samp=stats.norm.rvs(5,6,size=10000)\n",
    "sampmeans=np.cumsum(samp)/ns\n",
    "plt.plot(ns,sampmeans)\n",
    "plt.show()"
   ]
  }
 ],
 "metadata": {
  "kernelspec": {
   "display_name": "Python 3",
   "language": "python",
   "name": "python3"
  },
  "language_info": {
   "codemirror_mode": {
    "name": "ipython",
    "version": 3
   },
   "file_extension": ".py",
   "mimetype": "text/x-python",
   "name": "python",
   "nbconvert_exporter": "python",
   "pygments_lexer": "ipython3",
   "version": "3.6.5"
  }
 },
 "nbformat": 4,
 "nbformat_minor": 2
}
