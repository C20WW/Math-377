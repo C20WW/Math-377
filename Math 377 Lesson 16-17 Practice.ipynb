{
 "cells": [
  {
   "cell_type": "markdown",
   "metadata": {},
   "source": [
    "## Probability Practice (Joint Probability, Transformations, Moment Generating Functions)\n",
    "\n",
    "### Lt Col Horton\n",
    "\n",
    "In this notebook, I will provide some practice problems that will help reinforce your understanding of other probability concepts from this block (joint distributions, transformations, and moment generating functions). \n"
   ]
  },
  {
   "cell_type": "markdown",
   "metadata": {},
   "source": [
    "#### Problem 1"
   ]
  },
  {
   "cell_type": "markdown",
   "metadata": {},
   "source": [
    "Let $X$ and $Y$ be continuous random variables defined by the following joint pdf:\n",
    "\n",
    "$$\n",
    "f_{X,Y}(x,y)=kxy\n",
    "$$\n",
    "\n",
    "where $0\\leq x \\leq 2$ and $0\\leq y \\leq x$. \n",
    "\n",
    "Note that this is much different than the other joint examples we have seen thus far. The domain of $y$ is dependent on $x$. \n",
    "\n",
    "**_1.1_** Find the value of $k$ that makes $f$ a valid pdf.\n",
    "\n",
    "**_1.2_** Find $P(X\\leq 1, Y<0.5)$.\n",
    "\n",
    "**_1.3_** Find the marginal pdfs of $X$ and $Y$ ($f_X(x)$ and $f_Y(y)$). \n",
    "\n",
    "**_1.4_** Find $P(Y\\leq 1 \\mid X \\geq 1)$.\n",
    "\n",
    "**_1.5_** Find $P(Y \\leq 1)$.  "
   ]
  },
  {
   "cell_type": "markdown",
   "metadata": {},
   "source": [
    "#### Problem 2"
   ]
  },
  {
   "cell_type": "markdown",
   "metadata": {},
   "source": [
    "Let $X_1$ and $X_2$ be independent, continuous random variables with the exponential distribution, with constant parameter $\\lambda$. \n",
    "\n",
    "$$\n",
    "X_1 \\sim \\textsf{Exp}(\\lambda)\n",
    "$$\n",
    "$$\n",
    "X_2 \\sim \\textsf{Exp}(\\lambda)\n",
    "$$\n",
    "\n",
    "\n",
    "**_2.1_** Find the pdf of $Y$ where $Y=X_1^2$. (Hint: Use the cdf transformation method.) Bonus if you can tell me the name and parameters of this distribution. \n",
    "\n",
    "**_2.2_** Find the distribution of $Z=X_1+X_2$ (name of distribution and parameters). \n",
    "\n",
    "**_2.3_** Use the result of **_2.2_** to find the expected value and variance of $Z$. \n",
    "\n",
    "**_2.4_** Suppose $X_1$ and $X_2$ had different values of $\\lambda$ (say $\\lambda_1$ and $\\lambda_2$). What is the distribution of $X_1 + X_2$? \n",
    "\n"
   ]
  },
  {
   "cell_type": "markdown",
   "metadata": {},
   "source": [
    "Helpful information: \n",
    "\n",
    "Exponential distribution pdf: $f_X(x)=\\lambda e^{-\\lambda x}$, for $x>0$. \n",
    "\n",
    "Exponential distribution mgf: $M_X(t)= \\frac{\\lambda}{\\lambda - t}$. \n",
    "\n",
    "Gamma distribution pdf: $f_X(x)=\\frac{\\lambda^\\alpha}{\\Gamma(\\alpha)} x^{\\alpha-1} e^{-\\lambda x}$, for $x>0$. \n",
    "\n",
    "Gamma distribution mgf: $M_X(t)= \\left(\\frac{\\lambda}{\\lambda - t}\\right)^\\alpha$. \n"
   ]
  }
 ],
 "metadata": {
  "kernelspec": {
   "display_name": "Python 3",
   "language": "python",
   "name": "python3"
  },
  "language_info": {
   "codemirror_mode": {
    "name": "ipython",
    "version": 3
   },
   "file_extension": ".py",
   "mimetype": "text/x-python",
   "name": "python",
   "nbconvert_exporter": "python",
   "pygments_lexer": "ipython3",
   "version": "3.6.5"
  }
 },
 "nbformat": 4,
 "nbformat_minor": 2
}
