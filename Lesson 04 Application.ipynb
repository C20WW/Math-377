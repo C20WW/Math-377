{
 "cells": [
  {
   "cell_type": "markdown",
   "metadata": {},
   "source": [
    "##### 1)\t\n",
    "Create 3 variables for name (first and last), age and hometown. Assign to these variables your own name, age and hometown. Now, recreate the following sentence using variable assignment and the ‘print’ command in Python: \n",
    "\n",
    "“I am (Your name here). I am (age) years old. I’m from (hometown)”\n"
   ]
  },
  {
   "cell_type": "code",
   "execution_count": 1,
   "metadata": {},
   "outputs": [
    {
     "name": "stdout",
     "output_type": "stream",
     "text": [
      "I am Jefferson Sesler. I am 20 years old. I'm from Charlottesville, VA.\n"
     ]
    }
   ],
   "source": [
    "nom = \"Jefferson Sesler\"\n",
    "age = \"20\"\n",
    "hometown = \"Charlottesville, VA\"\n",
    "\n",
    "full = \"I am \" + nom + \". I am \" + age + \" years old. I'm from \" + hometown + \".\"\n",
    "print(full)"
   ]
  },
  {
   "cell_type": "markdown",
   "metadata": {},
   "source": [
    "###### a)\tNow, use a string method to make your name lower case. Print the all lower case version of your name. "
   ]
  },
  {
   "cell_type": "code",
   "execution_count": 2,
   "metadata": {},
   "outputs": [
    {
     "name": "stdout",
     "output_type": "stream",
     "text": [
      "jefferson sesler\n"
     ]
    }
   ],
   "source": [
    "nom = nom.lower()\n",
    "print(nom)"
   ]
  },
  {
   "cell_type": "markdown",
   "metadata": {},
   "source": [
    "###### b)\tNow use a string method to make your full name a proper noun. Print this version of your name."
   ]
  },
  {
   "cell_type": "code",
   "execution_count": 3,
   "metadata": {},
   "outputs": [
    {
     "name": "stdout",
     "output_type": "stream",
     "text": [
      "Jefferson Sesler\n"
     ]
    }
   ],
   "source": [
    "nom = nom.title()\n",
    "print(nom)"
   ]
  },
  {
   "cell_type": "markdown",
   "metadata": {},
   "source": [
    "##### 2)\n",
    "Using the ‘replace’ method, replace all “I am” with “he is” or “she is” and all “I’m” with “he’s” or “she’s”. "
   ]
  },
  {
   "cell_type": "code",
   "execution_count": 4,
   "metadata": {},
   "outputs": [
    {
     "name": "stdout",
     "output_type": "stream",
     "text": [
      "she is Jefferson Sesler. she is 20 years old. he's from Charlottesville, VA.\n"
     ]
    }
   ],
   "source": [
    "new = full.replace(\"I am\", \"she is\").replace(\"I'm\", \"he's\")\n",
    "print(new)"
   ]
  },
  {
   "cell_type": "markdown",
   "metadata": {},
   "source": [
    "##### 3)\n",
    "Return a boolean response indicating whether the length of your original sentence (in #1) is greater than your age plus 40. "
   ]
  },
  {
   "cell_type": "code",
   "execution_count": 5,
   "metadata": {},
   "outputs": [
    {
     "name": "stdout",
     "output_type": "stream",
     "text": [
      "True\n"
     ]
    }
   ],
   "source": [
    "ans = len(full) > (int(age) + 40)\n",
    "print(ans)"
   ]
  }
 ],
 "metadata": {
  "kernelspec": {
   "display_name": "Python 3",
   "language": "python",
   "name": "python3"
  },
  "language_info": {
   "codemirror_mode": {
    "name": "ipython",
    "version": 3
   },
   "file_extension": ".py",
   "mimetype": "text/x-python",
   "name": "python",
   "nbconvert_exporter": "python",
   "pygments_lexer": "ipython3",
   "version": "3.6.5"
  }
 },
 "nbformat": 4,
 "nbformat_minor": 2
}
