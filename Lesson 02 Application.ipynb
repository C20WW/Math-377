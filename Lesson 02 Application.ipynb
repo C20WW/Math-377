{
 "cells": [
  {
   "cell_type": "markdown",
   "metadata": {},
   "source": [
    "###### 1) \n",
    "Data science is the application of computing to statistically analyze incomplete data in order to draw useful conclusions from them.\n",
    "###### 2)\n",
    "The three focus ares for this course are exploration and identification of patterns, inference and quantifying reliability of patterns, and prediction and making guesses about values of interest.\n",
    "###### 3)\n",
    "I will install the datascience package once the internet is resurrected.\n",
    "###### 4)\n",
    "Here are 3 basic calculations:"
   ]
  },
  {
   "cell_type": "code",
   "execution_count": 1,
   "metadata": {},
   "outputs": [
    {
     "data": {
      "text/plain": [
       "21"
      ]
     },
     "execution_count": 1,
     "metadata": {},
     "output_type": "execute_result"
    }
   ],
   "source": [
    "7*3"
   ]
  },
  {
   "cell_type": "code",
   "execution_count": 2,
   "metadata": {},
   "outputs": [
    {
     "name": "stdout",
     "output_type": "stream",
     "text": [
      "W = 2364.21N\n"
     ]
    }
   ],
   "source": [
    "g = 9.81 #m/s^2\n",
    "m = 241 #kg\n",
    "W = m * g #N\n",
    "print(\"W = \" + str(W) + \"N\")"
   ]
  },
  {
   "cell_type": "code",
   "execution_count": 3,
   "metadata": {},
   "outputs": [
    {
     "data": {
      "text/plain": [
       "262555"
      ]
     },
     "execution_count": 3,
     "metadata": {},
     "output_type": "execute_result"
    }
   ],
   "source": [
    "(93481023099843^293938462190378) % 283746"
   ]
  },
  {
   "cell_type": "markdown",
   "metadata": {},
   "source": [
    "###### 5)"
   ]
  },
  {
   "cell_type": "code",
   "execution_count": 4,
   "metadata": {},
   "outputs": [
    {
     "name": "stdout",
     "output_type": "stream",
     "text": [
      "Braxton Sesler 👍\n",
      "Jefferson Sessler 👍\n",
      "Jeff Selser 👍\n",
      "Brandon Sesle 👍\n",
      "Branch Cedars 👍\n"
     ]
    }
   ],
   "source": [
    "print(\"Braxton Sesler \\N{THUMBS UP SIGN}\")\n",
    "# wait, no, it's\n",
    "print(\"Jefferson Sessler \\N{THUMBS UP SIGN}\")\n",
    "# or, is it\n",
    "print(\"Jeff Selser \\N{THUMBS UP SIGN}\")\n",
    "# Ah, I know, it's\n",
    "print(\"Brandon Sesle \\N{THUMBS UP SIGN}\")\n",
    "# Nope, let's try\n",
    "print(\"Branch Cedars \\N{THUMBS UP SIGN}\")\n",
    "# Yes, I've seen every one of these before. Don't feel bad when you get it wrong"
   ]
  },
  {
   "cell_type": "markdown",
   "metadata": {},
   "source": [
    "###### 6)\n",
    "Assuming you can trust what you read, there is an association between ice cream sales and violent crime. The fact that the two are related, however, does not necessarily mean one causes the other. It may be the case that increasing ice cream sales case ice cream shortages which instigate violent crimes as competition for ice cream skyrockets. However, it may also be the case that ice cream sales and violent crime are both caused by hot temperatures, as people try to eat more ice cream to cool their over-temped tempers. In this case, ice cream sales would not cause violent crime, even though they are associated. Careful and detailed study will be required to get to the bottom of this question of paramount importance.\n",
    "###### 7)\n",
    "An observational study records and studies data found 'in the wild,' which the people running the study had no part in creating. On the other hand, in an experiment the experimenters create a situation from which they collect and analyze data. This allows the experimenters to take extra steps to prevent confounding factors."
   ]
  },
  {
   "cell_type": "code",
   "execution_count": 5,
   "metadata": {},
   "outputs": [],
   "source": [
    "# Okay, I made up \"Branch.\" But I have recieved a letter addressed to \"Braxton Cedars\" before.\n",
    "# Also, in the time since I wrote this I've gotten Braxton Sealer and Braxton Sellers!"
   ]
  }
 ],
 "metadata": {
  "kernelspec": {
   "display_name": "Python 3",
   "language": "python",
   "name": "python3"
  },
  "language_info": {
   "codemirror_mode": {
    "name": "ipython",
    "version": 3
   },
   "file_extension": ".py",
   "mimetype": "text/x-python",
   "name": "python",
   "nbconvert_exporter": "python",
   "pygments_lexer": "ipython3",
   "version": "3.6.5"
  }
 },
 "nbformat": 4,
 "nbformat_minor": 2
}
