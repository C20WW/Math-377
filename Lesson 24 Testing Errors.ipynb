{
 "cells": [
  {
   "cell_type": "code",
   "execution_count": 1,
   "metadata": {},
   "outputs": [],
   "source": [
    "from datascience import *\n",
    "import numpy as np\n",
    "from math import *\n",
    "from scipy import stats\n",
    "import matplotlib.pyplot as plt\n",
    "%matplotlib inline"
   ]
  },
  {
   "cell_type": "markdown",
   "metadata": {},
   "source": [
    "## Lesson 24: Hypothesis Testing Errors & Power"
   ]
  },
  {
   "cell_type": "markdown",
   "metadata": {},
   "source": [
    "Throughout this block, we have been studying hypothesis tests. We have covered the four basic steps of any hypothesis test, and we have practiced various methods for obtaining the distribution of our test statistic under the null hypothesis. \n",
    "\n",
    "After we have reached a conclusion (reject or fail to reject), we must consider possible errors. \n",
    "\n",
    "### Type I error \n",
    "\n",
    "Type I error is the event that we rejected the null hypothesis when the null hypothesis was actually true. Type I error is also known as a false positive. The probability of a Type I error is usually defined by the threshold used for rejection. A common threshold is 0.05. Those of you who have taken statistics before may recognize this value as $\\alpha$. \n",
    "\n",
    "### Type II error\n",
    "\n",
    "Type II error is the event that we failed to reject the null hypothesis when the null hypothesis was actually false. This is otherwise known as a false negative. The probability of a Type II error is harder to find and requires a more in-depth analysis of a hypothesis test. The probability of a Type II error is often given as $\\beta$, and $1-\\beta$ is referred to as **Power**. The power of a test is probability that we will reject the null hypothesis when we are supposed to. \n",
    "\n",
    "Which one of these errors is more serious? It depends on the context of the problem. "
   ]
  },
  {
   "cell_type": "markdown",
   "metadata": {},
   "source": [
    "### Example: Golf Balls\n",
    "\n",
    "Joe has a summer job at a golf course and one of his jobs is to fish out golf balls from the water traps. He has a theory that certain types of golf ball are more likely to end up in the water than others. Let's assume there are four brands of golf ball, let's and assume that all four are used equally at this golf course. He fishes out 100 golf balls and counts each brand. He finds 30 of brand A, 30 of brand B, 20 of brand C and 20 of brand D. Conduct a hypothesis test to determine whether certain types of golf ball are more likely than others to end up in the water."
   ]
  },
  {
   "cell_type": "markdown",
   "metadata": {},
   "source": [
    "Step 1: Hypotheses\n",
    "\n",
    "*The null hypothesis states that no type of golf ball is more likely to end up in the water, and the unequal distribution Joe observes is due purely to chance. The alternative hypothesis states that the distribution Joe observed is not purely due to chance.*"
   ]
  },
  {
   "cell_type": "markdown",
   "metadata": {},
   "source": [
    "Step 2: Test statistic\n",
    "\n",
    "There are many correct answers, but let's go with sum of absolute difference between observed and expected counts under $H_0$. To do this, we need to find the expected counts. If each ball was equally likely, how many should we expected to find of each if we select 100 golf balls? \n",
    "\n",
    "*If each ball is equally likely to end up in the water, then the number of each type per 100 balls in the water will have an expectation value of 25. Thus, the observed statistic is*"
   ]
  },
  {
   "cell_type": "code",
   "execution_count": 13,
   "metadata": {},
   "outputs": [
    {
     "data": {
      "text/plain": [
       "20"
      ]
     },
     "execution_count": 13,
     "metadata": {},
     "output_type": "execute_result"
    }
   ],
   "source": [
    "obs = np.sum(abs(make_array([30, 30, 20, 20])-25))\n",
    "obs"
   ]
  },
  {
   "cell_type": "markdown",
   "metadata": {},
   "source": [
    "Step 3: $p$-value\n",
    "\n",
    "We need the distribution of the test statistic under $H_0$. "
   ]
  },
  {
   "cell_type": "code",
   "execution_count": 80,
   "metadata": {},
   "outputs": [
    {
     "data": {
      "image/png": "[encoded data removed]",
      "text/plain": [
       "<Figure size 432x288 with 1 Axes>"
      ]
     },
     "metadata": {},
     "output_type": "display_data"
    }
   ],
   "source": [
    "types = make_array('A', 'B', 'C', 'D')\n",
    "dist = make_array()\n",
    "\n",
    "for _ in np.arange(10000):\n",
    "    sample = np.random.choice(types,100) # Get a sample of 100 random choices from 'types'\n",
    "    sum = abs(np.sum(make_array( sample=='A', sample=='B', sample=='C', sample=='D'), 1)-25).sum()\n",
    "        # Gets the test statistic of the sample\n",
    "    dist = np.append(dist, sum) # record the statistic for this sample\n",
    "\n",
    "plt.hist(dist,np.arange(0,40,2));\n",
    "plt.title('Distribution of the Test Statistic under H0');"
   ]
  },
  {
   "cell_type": "code",
   "execution_count": 84,
   "metadata": {},
   "outputs": [
    {
     "data": {
      "text/plain": [
       "0.1818"
      ]
     },
     "execution_count": 84,
     "metadata": {},
     "output_type": "execute_result"
    }
   ],
   "source": [
    "p = np.sum(dist>=obs)/len(dist)\n",
    "p"
   ]
  },
  {
   "cell_type": "markdown",
   "metadata": {},
   "source": [
    "Step 4: Conclude\n",
    "\n",
    "*Since the p-value of the observed value of the test statistic is 0.18, which is much greater then 0.05, we conclude that the data support the null hypothesis.*"
   ]
  },
  {
   "cell_type": "markdown",
   "metadata": {},
   "source": [
    "What kind of error could we have made in this case? "
   ]
  },
  {
   "cell_type": "markdown",
   "metadata": {},
   "source": [
    "*We could have made a Type II, or false negative, since we rejected the alternate hypothesis.*"
   ]
  },
  {
   "cell_type": "markdown",
   "metadata": {},
   "source": [
    "#### Power \n",
    "Suppose that, in truth, 30% of the balls found in the water were brand A, 30% were brand B, 20% were brand C and 20% were brand D. In this case, our collected sample reflected this truth perfectly. However, our hypothesis test failed to recognize this deviation from equal proportions. We made a type II error. This is because this test has fairly low power. Use simulation to determine the power of this test. "
   ]
  },
  {
   "cell_type": "markdown",
   "metadata": {},
   "source": [
    "I am looking for the probability that I reject the null hypothesis given the true proportions laid out above. Well, first I need to figure out for what values of my test statistic I would reject $H_0$. "
   ]
  },
  {
   "cell_type": "code",
   "execution_count": 96,
   "metadata": {},
   "outputs": [
    {
     "data": {
      "text/plain": [
       "array([ 6., 24.])"
      ]
     },
     "execution_count": 96,
     "metadata": {},
     "output_type": "execute_result"
    },
    {
     "data": {
      "text/plain": [
       "0.0486"
      ]
     },
     "execution_count": 96,
     "metadata": {},
     "output_type": "execute_result"
    },
    {
     "data": {
      "text/plain": [
       "0.0416"
      ]
     },
     "execution_count": 96,
     "metadata": {},
     "output_type": "execute_result"
    }
   ],
   "source": [
    "percentile([5, 95], dist) # Get 5th & 95th percentiles\n",
    "\n",
    "# Check by computing p-values\n",
    "np.sum(dist<=4)/len(dist)\n",
    "np.sum(dist>=26)/len(dist)"
   ]
  },
  {
   "cell_type": "markdown",
   "metadata": {},
   "source": [
    "*Since the 4 and 26 are the least extreme values of the test statistic with a p-value less than 0.05, I would have rejected any observed value of 4 or less or of 26 or greater on the basis of having a p-value below 0.05.*"
   ]
  },
  {
   "cell_type": "markdown",
   "metadata": {},
   "source": [
    "Next, I need to simulate from the true population and determine how often my test statistic would have met this threshold. "
   ]
  },
  {
   "cell_type": "code",
   "execution_count": 110,
   "metadata": {},
   "outputs": [
    {
     "data": {
      "image/png": "[encoded data removed]",
      "text/plain": [
       "<Figure size 432x288 with 1 Axes>"
      ]
     },
     "metadata": {},
     "output_type": "display_data"
    }
   ],
   "source": [
    "dist2 = make_array()\n",
    "\n",
    "# Using same method as before, get a bunch of test statistics\n",
    "for _ in np.arange(10000):\n",
    "    sample = np.random.choice(types,100, p=[0.3,0.3,0.2,0.2]) # NOTICE new proportions of balls\n",
    "    sum = abs(np.sum(make_array( sample=='A', sample=='B', sample=='C', sample=='D'), 1)-25).sum()\n",
    "        # Gets the test statistic of the sample\n",
    "    dist2 = np.append(dist2, sum) # record the statistic for this sample\n",
    "    \n",
    "plt.hist(dist2,np.arange(0,56,2));\n",
    "plt.title('Distribution of the Test Statistic under True Proportion');"
   ]
  },
  {
   "cell_type": "code",
   "execution_count": 122,
   "metadata": {},
   "outputs": [
    {
     "data": {
      "text/plain": [
       "0.3529"
      ]
     },
     "execution_count": 122,
     "metadata": {},
     "output_type": "execute_result"
    }
   ],
   "source": [
    "(np.sum(dist2<=4)+np.sum(dist2>=26))/len(dist2)\n",
    "    # Proportion of test statistics that would have been rejected, as appropriate"
   ]
  },
  {
   "cell_type": "markdown",
   "metadata": {},
   "source": [
    "What do you think about this power? "
   ]
  },
  {
   "cell_type": "markdown",
   "metadata": {},
   "source": [
    "*A power of 35.3% is not insignificant, but it is very small. In other words, it was not impossible for us to get data leading to rejection of the null hypothesis, but it was unlikely.*"
   ]
  },
  {
   "cell_type": "markdown",
   "metadata": {},
   "source": [
    "Repeat this power calculation, but assume Joe collects 500 balls instead of 100. Note that you will have to obtain a new critical value. What does this tell you about power and sample size?"
   ]
  },
  {
   "cell_type": "code",
   "execution_count": 147,
   "metadata": {},
   "outputs": [
    {
     "data": {
      "text/plain": [
       "3e-05"
      ]
     },
     "execution_count": 147,
     "metadata": {},
     "output_type": "execute_result"
    }
   ],
   "source": [
    "# Recalculate null hypothesis distribution for 500 samples\n",
    "\n",
    "ex = 500/4 # need a new expected value\n",
    "newObs = np.sum(abs(make_array([0.3*500, 0.3*500, 0.2*500, 0.2*500])-ex))\n",
    "    # new observed value, assuming proportion of observed balls stays the same\n",
    "dist3 = make_array()\n",
    "\n",
    "for _ in np.arange(100000):\n",
    "    sample = np.random.choice(types,500) # Get a sample of 500 random choices from 'types'\n",
    "    sum = abs(np.sum(make_array( sample=='A', sample=='B', sample=='C', sample=='D'), 1)-ex).sum()\n",
    "        # Gets the test statistic of the sample\n",
    "    dist3 = np.append(dist3, sum) # record the statistic for this sample\n",
    "\n",
    "p = np.sum(dist3>=newObs)/len(dist3); # check out the p-score, just for fun\n",
    "p"
   ]
  },
  {
   "cell_type": "code",
   "execution_count": 149,
   "metadata": {},
   "outputs": [
    {
     "data": {
      "text/plain": [
       "array([12., 54.])"
      ]
     },
     "execution_count": 149,
     "metadata": {},
     "output_type": "execute_result"
    },
    {
     "data": {
      "text/plain": [
       "0.04525"
      ]
     },
     "execution_count": 149,
     "metadata": {},
     "output_type": "execute_result"
    },
    {
     "data": {
      "text/plain": [
       "0.04893"
      ]
     },
     "execution_count": 149,
     "metadata": {},
     "output_type": "execute_result"
    }
   ],
   "source": [
    "percentile([5, 95], dist3) # Get 5th & 95th percentiles\n",
    "\n",
    "# Check by computing p-values\n",
    "np.sum(dist3<=10)/len(dist3)\n",
    "np.sum(dist3>=56)/len(dist3)"
   ]
  },
  {
   "cell_type": "code",
   "execution_count": 150,
   "metadata": {},
   "outputs": [
    {
     "data": {
      "text/plain": [
       "0.9804"
      ]
     },
     "execution_count": 150,
     "metadata": {},
     "output_type": "execute_result"
    }
   ],
   "source": [
    "# Get the distribution of test statistics under the true proportion again\n",
    "dist4 = make_array()\n",
    "\n",
    "# Using same method as before, get a bunch of test statistics\n",
    "for _ in np.arange(10000):\n",
    "    sample = np.random.choice(types,500, p=[0.3,0.3,0.2,0.2]) # NOTICE new proportions of balls\n",
    "    sum = abs(np.sum(make_array( sample=='A', sample=='B', sample=='C', sample=='D'), 1)-ex).sum()\n",
    "        # Gets the test statistic of the sample\n",
    "    dist4 = np.append(dist4, sum) # record the statistic for this sample\n",
    "    \n",
    "(np.sum(dist4<=10)+np.sum(dist4>=56))/len(dist4)\n",
    "     # get power by comparing distribution to cutoff values for the statistic under the null hypothesis"
   ]
  },
  {
   "cell_type": "markdown",
   "metadata": {},
   "source": [
    "*Recalculating with the same proportions, but a larger sample size, increses the power to a whopping 98%! It appears that a larger sample size is correlated to a greater power.*"
   ]
  },
  {
   "cell_type": "code",
   "execution_count": null,
   "metadata": {},
   "outputs": [],
   "source": []
  }
 ],
 "metadata": {
  "kernelspec": {
   "display_name": "Python 3",
   "language": "python",
   "name": "python3"
  },
  "language_info": {
   "codemirror_mode": {
    "name": "ipython",
    "version": 3
   },
   "file_extension": ".py",
   "mimetype": "text/x-python",
   "name": "python",
   "nbconvert_exporter": "python",
   "pygments_lexer": "ipython3",
   "version": "3.6.5"
  }
 },
 "nbformat": 4,
 "nbformat_minor": 2
}
