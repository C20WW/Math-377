{
 "cells": [
  {
   "cell_type": "code",
   "execution_count": 43,
   "metadata": {},
   "outputs": [],
   "source": [
    "from datascience import *\n",
    "import numpy as np\n",
    "from math import *"
   ]
  },
  {
   "cell_type": "markdown",
   "metadata": {},
   "source": [
    "$$\n",
    "\\begin{align}\n",
    "\\end{align}\n",
    "$$"
   ]
  },
  {
   "cell_type": "markdown",
   "metadata": {},
   "source": [
    "## Joint Distributions"
   ]
  },
  {
   "cell_type": "markdown",
   "metadata": {},
   "source": [
    "Recall from Lessons 13 & 14: let $X$ be a random variable. $X$ has a distribution that is described by a probability mass function (pmf) or probability density function (pdf). \n",
    "\n",
    "We can consider multiple random variables simultaneously using joint distributions. \n",
    "\n",
    "NOTE: When answering the questions below, you are not required to use Python. If you would like to answer in Markdown, feel free to change the type of the cell, or to use both types of cells. "
   ]
  },
  {
   "cell_type": "markdown",
   "metadata": {},
   "source": [
    "#### Example 1: Discrete Joint Distribution"
   ]
  },
  {
   "cell_type": "markdown",
   "metadata": {},
   "source": [
    "Let $X$ and $Y$ be discrete random variables that can each only take the values 0, 1 or 2, and do so according to the following distribution:"
   ]
  },
  {
   "cell_type": "markdown",
   "metadata": {},
   "source": [
    "\n",
    " |  | $X$  | 1 | 2 | 3 |\n",
    " |-- | ------ | ------ |\n",
    " |  | 1 | 0.17 | 0.15 | 0.08 |\n",
    " | $Y$ | 2 | 0.00 | 0.10 | 0.10 |\n",
    " |  | 3 | 0.08 | 0.20 | 0.12 |\n",
    " \n"
   ]
  },
  {
   "cell_type": "markdown",
   "metadata": {},
   "source": [
    "This is an example of a joint probability mass function (joint pmf), and is denoted as $f_{X,Y}(x,y)$. \n",
    "\n",
    "For example, the probability that $X$ takes the value 1 AND $Y$ takes the value 3, or $P(X=1,Y=3)$ is equal to 0.08. "
   ]
  },
  {
   "cell_type": "markdown",
   "metadata": {},
   "source": [
    "**_1.1_** Find $P(X = 2,Y=3)$. \n",
    "\n",
    "**_1.2_** Find $E(X+Y)$. "
   ]
  },
  {
   "cell_type": "markdown",
   "metadata": {},
   "source": [
    "*1.1:* *$P(X=2,Y=3)=0.20$*"
   ]
  },
  {
   "cell_type": "markdown",
   "metadata": {},
   "source": [
    "*1.2:*\n",
    "$$\n",
    "\\begin{align}\n",
    "E\\left(X+Y\\right)&=\\sum_{x}\\sum_{y}\\left(x+y\\right)f_{x,y}\\left(x,y\\right)\\\\\n",
    "&=\\left(1+1\\right)f_{x,y}\\left(1,1\\right)+\\left(1+2\\right)f_{x,y}\\left(1,2\\right)+\\left(1+3\\right)f_{x,y}\\left(1,3\\right)+\\\\\n",
    "& \\left(2+1\\right)f_{x,y}\\left(2,1\\right)+\\left(2+2\\right)f_{x,y}\\left(2,2\\right)+\\left(2+3\\right)f_{x,y}\\left(2,3\\right)+\\\\\n",
    "&\\left(3+1\\right)f_{x,y}\\left(3,1\\right)+\\left(3+2\\right)f_{x,y}\\left(3,2\\right)+\\left(3+3\\right)f_{x,y}\\left(3,3\\right)\\\\\n",
    "&=\\left(2\\right)\\left(0.17\\right)+\\left(3\\right)\\left(0.00\\right)+\\left(4\\right)\\left(0.08\\right)+\\left(3\\right)\\left(0.15\\right)+\\left(4\\right)\\left(0.10\\right)+\\\\&\\left(5\\right)\\left(0.20\\right)+\\left(4\\right)\\left(0.08\\right)+\\left(5\\right)\\left(0.10\\right)+\\left(6\\right)\\left(0.12\\right)\\\\\n",
    "&=0.34+0.00+0.32+0.45+0.40+1.00+0.32+0.50+0.72\\\\\n",
    "E\\left(X+Y\\right)&=4.05\n",
    "\\end{align}\n",
    "$$"
   ]
  },
  {
   "cell_type": "code",
   "execution_count": 44,
   "metadata": {},
   "outputs": [
    {
     "data": {
      "text/plain": [
       "4.05"
      ]
     },
     "execution_count": 44,
     "metadata": {},
     "output_type": "execute_result"
    }
   ],
   "source": [
    "# 1.2 with code\n",
    "def jpmfXY(x,y):\n",
    "    '''a function that returns the probability of X and Y, from the given table'''\n",
    "    if x==1 and y==1:\n",
    "        return 0.17\n",
    "    elif x==1 and y==3:\n",
    "        return 0.08\n",
    "    elif x==2 and y==1:\n",
    "        return 0.15\n",
    "    elif x==2 and y==2:\n",
    "        return 0.1\n",
    "    elif x==2 and y==3:\n",
    "        return 0.2\n",
    "    elif x==3 and y==1:\n",
    "        return 0.08\n",
    "    elif x==3 and y==2:\n",
    "        return 0.1\n",
    "    elif x==3 and y==3:\n",
    "        return 0.12\n",
    "    else:\n",
    "        return 0\n",
    "    \n",
    "Exy = 0\n",
    "for x in [1,2,3]:\n",
    "    for y in [1,2,3]:\n",
    "        Exy += (x+y)*jpmfXY(x,y)\n",
    "Exy"
   ]
  },
  {
   "cell_type": "markdown",
   "metadata": {},
   "source": [
    "### Marginal Probability"
   ]
  },
  {
   "cell_type": "markdown",
   "metadata": {},
   "source": [
    "When given a joint pmf like this, we may want to know the distribution of $X$ or $Y$ individually. Specifically, we might want to know $P(X=1)$ or $f_Y(y)$. \n",
    "\n",
    "Marginal probability can be found by summing across the remaining variable. Specifically,\n",
    "\n",
    "$$\n",
    "f_X(x)=\\sum_y f_{X,Y}(x,y)\n",
    "$$\n",
    "and \n",
    "$$\n",
    "f_Y(y)=\\sum_x f_{X,Y}(x,y)\n",
    "$$\n"
   ]
  },
  {
   "cell_type": "markdown",
   "metadata": {},
   "source": [
    "**_1.3_** Find $P(X=2)$. \n",
    "\n",
    "**_1.4_** Find $f_Y(y)$ (the marginal pmf of $Y$). \n",
    "\n",
    "**_1.5_** Find $E(Y)$ and $V(Y)$. "
   ]
  },
  {
   "cell_type": "code",
   "execution_count": 45,
   "metadata": {},
   "outputs": [
    {
     "data": {
      "text/html": [
       "<table border=\"1\" class=\"dataframe\">\n",
       "    <thead>\n",
       "        <tr>\n",
       "            <th>Y\\X</th> <th>1</th> <th>2</th> <th>3</th>\n",
       "        </tr>\n",
       "    </thead>\n",
       "    <tbody>\n",
       "        <tr>\n",
       "            <td>1   </td> <td>0.17</td> <td>0.15</td> <td>0.08</td>\n",
       "        </tr>\n",
       "    </tbody>\n",
       "        <tr>\n",
       "            <td>2   </td> <td>0   </td> <td>0.1 </td> <td>0.1 </td>\n",
       "        </tr>\n",
       "    </tbody>\n",
       "        <tr>\n",
       "            <td>3   </td> <td>0.08</td> <td>0.2 </td> <td>0.12</td>\n",
       "        </tr>\n",
       "    </tbody>\n",
       "</table>"
      ],
      "text/plain": [
       "Y\\X  | 1    | 2    | 3\n",
       "1    | 0.17 | 0.15 | 0.08\n",
       "2    | 0    | 0.1  | 0.1\n",
       "3    | 0.08 | 0.2  | 0.12"
      ]
     },
     "execution_count": 45,
     "metadata": {},
     "output_type": "execute_result"
    },
    {
     "name": "stdout",
     "output_type": "stream",
     "text": [
      "1.3) P(X=2) = 0.45\n",
      "1.4)\n"
     ]
    },
    {
     "data": {
      "text/html": [
       "<table border=\"1\" class=\"dataframe\">\n",
       "    <thead>\n",
       "        <tr>\n",
       "            <th>Y</th> <th>fY(y)</th>\n",
       "        </tr>\n",
       "    </thead>\n",
       "    <tbody>\n",
       "        <tr>\n",
       "            <td>1   </td> <td>0.4  </td>\n",
       "        </tr>\n",
       "    </tbody>\n",
       "        <tr>\n",
       "            <td>2   </td> <td>0.2  </td>\n",
       "        </tr>\n",
       "    </tbody>\n",
       "        <tr>\n",
       "            <td>3   </td> <td>0.4  </td>\n",
       "        </tr>\n",
       "    </tbody>\n",
       "</table>"
      ],
      "text/plain": [
       "Y    | fY(y)\n",
       "1    | 0.4\n",
       "2    | 0.2\n",
       "3    | 0.4"
      ]
     },
     "execution_count": 45,
     "metadata": {},
     "output_type": "execute_result"
    },
    {
     "name": "stdout",
     "output_type": "stream",
     "text": [
      "1.5) E(Y) = 2.0\n",
      "     V(Y) = 0.8\n"
     ]
    }
   ],
   "source": [
    "jpmfTable = Table().with_columns([\n",
    "    'Y\\X', [1, 2, 3],\n",
    "    '1', [0.17, 0.0, 0.08],\n",
    "    '2', [0.15, 0.1, 0.2],\n",
    "    '3', [0.08, 0.1, 0.12]\n",
    "]) # A table will make the distribution easier to work with\n",
    "jpmfTable\n",
    "\n",
    "print('1.3) P(X=2) = ' + str(jpmfTable.column('2').sum()))\n",
    "# P(X=2) is found by isolating the X=2 column and summing the probabilities for any Y\n",
    "\n",
    "fY=Table().with_columns([\n",
    "    'Y', [1, 2, 3],\n",
    "    'fY(y)', jpmfTable.drop('Y\\X').apply(sum)\n",
    "]) # the pmf of Y is found by summing each row across all X\n",
    "print('1.4)')\n",
    "fY\n",
    "\n",
    "EY = sum(fY.column(0)*fY.column(1))\n",
    "# E(X) is found by summing the products of each value for Y and its probability\n",
    "print('1.5) E(Y) = ' + str(EY))\n",
    "\n",
    "VY = sum((fY.column('Y') - EY)**2 * fY.column(1))\n",
    "# V(Y) is found by summing the probability of each value of Y multiplied \n",
    "# by the square of the difference between the value and E(Y)\n",
    "print('     V(Y) = ' + str(VY))"
   ]
  },
  {
   "cell_type": "markdown",
   "metadata": {},
   "source": [
    "### Conditional Probability\n",
    "\n",
    "We may be interested in the probability $X$ takes a specific value conditioned on the value of $Y$. Recall that conditional probability is given by $P(A|B)=\\frac{P(A,B)}{P(B)}$. \n",
    "\n",
    "So, essentially, conditional probability can be found by dividing the joint probability by the appropriate marginal probability. "
   ]
  },
  {
   "cell_type": "markdown",
   "metadata": {},
   "source": [
    "**_1.6_** Find $P(Y=1|X=3)$. \n",
    "\n",
    "**_1.7_** Find $f_{X|Y=2}(x)$, the conditional pmf of $X$, given $Y=2$. \n",
    "\n",
    "**_1.8_** Find $E(X|Y=2)$ and $V(X|Y=2)$. "
   ]
  },
  {
   "cell_type": "code",
   "execution_count": 46,
   "metadata": {
    "scrolled": true
   },
   "outputs": [
    {
     "name": "stdout",
     "output_type": "stream",
     "text": [
      "1.6) P(Y=1|X=3) = 0.26666666666666666\n"
     ]
    }
   ],
   "source": [
    "# A marginal probability function will make this easier\n",
    "def marg(XY, n):\n",
    "    '''Given the letter 'X' or 'Y' and a number n,\n",
    "    returns the marginal probability of X or Y being equal to n'''\n",
    "    if XY=='X':\n",
    "        return jpmfTable.column(n).sum()\n",
    "    else:\n",
    "        return jpmfTable.drop('Y\\X').apply(sum)[n-1]\n",
    "    \n",
    "print('1.6) P(Y=1|X=3) = ' + str( jpmfXY(3,1)/marg('X',3) ))\n",
    "#           P(Y=1|X=3)     =    P(X=3 and Y=1) / P(X=3)"
   ]
  },
  {
   "cell_type": "code",
   "execution_count": 60,
   "metadata": {},
   "outputs": [
    {
     "name": "stdout",
     "output_type": "stream",
     "text": [
      "1.7):\n"
     ]
    },
    {
     "data": {
      "text/html": [
       "<table border=\"1\" class=\"dataframe\">\n",
       "    <thead>\n",
       "        <tr>\n",
       "            <th>X</th> <th>f_X|Y=2 (x)</th>\n",
       "        </tr>\n",
       "    </thead>\n",
       "    <tbody>\n",
       "        <tr>\n",
       "            <td>1   </td> <td>0          </td>\n",
       "        </tr>\n",
       "    </tbody>\n",
       "        <tr>\n",
       "            <td>2   </td> <td>0.5        </td>\n",
       "        </tr>\n",
       "    </tbody>\n",
       "        <tr>\n",
       "            <td>3   </td> <td>0.5        </td>\n",
       "        </tr>\n",
       "    </tbody>\n",
       "</table>"
      ],
      "text/plain": [
       "X    | f_X|Y=2 (x)\n",
       "1    | 0\n",
       "2    | 0.5\n",
       "3    | 0.5"
      ]
     },
     "execution_count": 60,
     "metadata": {},
     "output_type": "execute_result"
    },
    {
     "name": "stdout",
     "output_type": "stream",
     "text": [
      "1.8) E(X|Y=2) = 2.5\n",
      "     V(X|Y=2) = 0.25\n"
     ]
    }
   ],
   "source": [
    "fXY2 = Table().with_columns([\n",
    "    'X', [1,2,3],\n",
    "    'f_X|Y=2 (x)', [jpmfXY(1,2), jpmfXY(2,2), jpmfXY(3,2)] / marg('Y',2) ])\n",
    "# I wish there was a better way to swap rows & columns like this\n",
    "print('1.7):')\n",
    "fXY2\n",
    "\n",
    "EXY2 = sum(fXY2.column(0)*fXY2.column(1))\n",
    "# E(X) is found by summing the products of each value for Y and its probability\n",
    "print('1.8) E(X|Y=2) = ' + str(EXY2))\n",
    "\n",
    "VXY2 = sum((fXY2.column(0) - EXY2)**2 * fXY2.column(1))\n",
    "# V(Y) is found by summing the probability of each value of Y multiplied \n",
    "# by the square of the difference between the value and E(Y)\n",
    "print('     V(X|Y=2) = ' + str(VXY2))"
   ]
  },
  {
   "cell_type": "markdown",
   "metadata": {},
   "source": [
    "**_1.9_** Are $X$ and $Y$ independent? Why or why not? "
   ]
  },
  {
   "cell_type": "markdown",
   "metadata": {},
   "source": [
    "*$X$ and $Y$ are independent, since $P(Y=2)=0.2$ while $P(Y=2|X=1)=0$.*"
   ]
  },
  {
   "cell_type": "markdown",
   "metadata": {},
   "source": [
    "### Covariance and Correlation\n",
    "\n",
    "Expected value and variance help us characterize $X$ and $Y$ marginally and conditionally, but we may also be interested in measuring the relationship between $X$ and $Y$. For this, we use *covariance*. \n",
    "\n",
    "$$\n",
    "Cov(X,Y)=E[(X-E(X))(Y-E(Y))] = E(XY)-E(X)E(Y)\n",
    "$$\n",
    "\n",
    "Note that if $X$ and $Y$ are independent, $Cov(X,Y) =0$. The converse is NOT necessarily true. \n",
    "\n",
    "Covariance is dependent on the scales of $X$ and $Y$, so if the two variables are of vastly different scale, we'll want to use covariance's unitless counterpart, correlation, denoted by $\\rho$. \n",
    "\n",
    "$$\n",
    "\\rho = \\frac{Cov(X,Y)}{\\sqrt{Var(X)Var(Y)}}\n",
    "$$\n",
    "\n",
    "$\\rho$ is bounded by the interval $[-1,1]$. When $\\rho=1$, $X$ and $Y$ are perfectly positively correlated. Similarly, when $\\rho=-1$, $X$ and $Y$ are perfectly negatively correlated. "
   ]
  },
  {
   "cell_type": "markdown",
   "metadata": {},
   "source": [
    "**_1.10_** Find $Cov(X,Y)$\n",
    "\n",
    "**_1.11_** Find $Corr(X,Y)$, or $\\rho$. "
   ]
  },
  {
   "cell_type": "code",
   "execution_count": 65,
   "metadata": {},
   "outputs": [
    {
     "name": "stdout",
     "output_type": "stream",
     "text": [
      "1.10) Cov(X,Y) = 0.13000000000000078\n",
      "1.11) Corr(X,Y) = 0.1964293126950385\n"
     ]
    }
   ],
   "source": [
    "# E(Y) & V(Y) were previously calculated\n",
    "EXY=0\n",
    "EX=0\n",
    "for x in [1,2,3]:\n",
    "    for y in [1,2,3]:\n",
    "        EXY+= x*y*jpmfXY(x,y)\n",
    "        EX+= x*jpmfXY(x,y)\n",
    "        \n",
    "VX = 0\n",
    "for x in [1,2,3]:\n",
    "    for y in [1,2,3]:\n",
    "        VX+= (x-EX)**2 * jpmfXY(x,y)\n",
    "        \n",
    "Cov = EXY - EX*EY\n",
    "Corr = Cov/(VX*VY)**(1/2)\n",
    "\n",
    "print('1.10) Cov(X,Y) = ' + str(Cov))\n",
    "print('1.11) Corr(X,Y) = ' + str(Corr))"
   ]
  },
  {
   "cell_type": "markdown",
   "metadata": {},
   "source": [
    "In problem 1.2, we found $E(X+Y)$. In order to find $Var(X+Y)$, we need to know how $X$ and $Y$ are correlated: \n",
    "\n",
    "$$\n",
    "Var(X+Y)= Var(X)+Var(Y)+2*Cov(X,Y)\n",
    "$$"
   ]
  },
  {
   "cell_type": "markdown",
   "metadata": {},
   "source": [
    "**_1.12_** Find $Var(X+Y)$. "
   ]
  },
  {
   "cell_type": "code",
   "execution_count": 66,
   "metadata": {},
   "outputs": [
    {
     "name": "stdout",
     "output_type": "stream",
     "text": [
      "1.12) Var(X+Y) = 1.6075000000000017\n"
     ]
    }
   ],
   "source": [
    "print('1.12) Var(X+Y) = ' + str(VX + VY + 2*Cov))"
   ]
  },
  {
   "cell_type": "markdown",
   "metadata": {},
   "source": [
    "#### Example 2: Continuous Joint Distribution\n",
    "\n",
    "All of the concepts above apply to continuous random variables. Consider continuous random variables $X$ and $Y$ with the following joint pdf:\n",
    "\n",
    "$$\n",
    "f_{X,Y}(x,y)=k(x+y)\n",
    "$$\n",
    "\n",
    "where both $x$ and $y$ are bounded by the interval $[0,1]$. "
   ]
  },
  {
   "cell_type": "markdown",
   "metadata": {},
   "source": [
    "**_2.1_** Find the value of $k$ that makes $f$ a valid joint pdf. "
   ]
  },
  {
   "cell_type": "markdown",
   "metadata": {},
   "source": [
    "$$\n",
    "\\begin{align}\n",
    "\\int\\int f_{X,Y}\\left(x,y\\right)dxdy&=1\\\\\n",
    "\\int_0^1\\int_0^1k\\left(x+y\\right)dxdy&=1\\\\\n",
    "k\\int_0^1\\left(\\frac{1}{2}x^2+xy\\right)|_0^1dy&=1\\\\\n",
    "k\\int_0^1\\left(\\frac{1}{2}+y\\right)dy&=1\\\\\n",
    "k\\left(\\frac{1}{2}y+\\frac{1}{2}y^2\\right)|_0^1&=1\\\\\n",
    "k\\left(\\frac{1}{2}+\\frac{1}{2}\\right)&=1\\\\\n",
    "k&=1\n",
    "\\end{align}\n",
    "$$"
   ]
  },
  {
   "cell_type": "markdown",
   "metadata": {},
   "source": [
    "**_2.2_** Find $P(X<0.5,Y<0.5)$"
   ]
  },
  {
   "cell_type": "markdown",
   "metadata": {},
   "source": [
    "$$\n",
    "\\begin{align}\n",
    "P\\left(X<0.5,Y<0.5\\right)&=\\int_0^{0.5}\\int_0^{0.5}\\left(x+y\\right)dxdy\\\\\n",
    "&=\\int_0^{0.5}\\left(\\frac{1}{2}x^2+xy\\right)|_0^{0.5}dy\\\\\n",
    "&=\\int_0^{0.5}\\left(\\frac{1}{8}+\\frac{1}{2}y\\right)dy\\\\\n",
    "&=\\left(\\frac{1}{8}y+\\frac{1}{4}y^2\\right)|_0^{0.5}\\\\\n",
    "&=\\frac{1}{16}+\\frac{1}{16}=\\frac{1}{8}\n",
    "\\end{align}\n",
    "$$"
   ]
  },
  {
   "cell_type": "markdown",
   "metadata": {},
   "source": [
    "**_2.3_** Find $f_X(x)$ and $f_Y(y)$, the marginal pdfs of $X$ and $Y$. \n",
    "\n",
    "**_2.4_** Find $E(X)$ and $E(Y)$. "
   ]
  },
  {
   "cell_type": "markdown",
   "metadata": {},
   "source": [
    "*2.3)*\n",
    "$$\n",
    "\\begin{align}\n",
    "f_X\\left(x\\right)&=\\int f_{X,Y}\\left(x,y\\right)dy &f_Y\\left(y\\right)&=\\int f_{X,Y}\\left(x,y\\right)dx\\\\\n",
    "&=\\int_0^1\\left(x+y\\right)dy &&=\\int_0^1\\left(x+y\\right)dx\\\\\n",
    "&=\\left(xy+\\frac{1}{2}y^2\\right)|_0^1 &&=\\left(\\frac{1}{2}x^2+xy\\right)|_0^1\\\\\n",
    "&=x+\\frac{1}{2} &&=\\frac{1}{2}+y\n",
    "\\end{align}\n",
    "$$\n",
    "\n",
    "*2.4)*\n",
    "$$\n",
    "\\begin{align}\n",
    "E\\left(X\\right)&=\\int x f_X\\left(x\\right)dx &E\\left(Y\\right)&=\\int x f_Y\\left(y\\right)dy\\\\\n",
    "&=\\int_0^1 x\\left(x+\\frac{1}{2}\\right)dx &&=\\int_0^1 y\\left(y+\\frac{1}{2}\\right)dy\\\\\n",
    "&=\\int_0^1 \\left(x^2+\\frac{1}{2}x\\right)dx &&=\\int_0^1 \\left(y^2+\\frac{1}{2}y\\right)dy\\\\\n",
    "&=\\left(\\frac{1}{3}x^3+\\frac{1}{4}x^2\\right)|_0^1 &&=\\left(\\frac{1}{3}y^3+\\frac{1}{4}y^2\\right)|_0^1\\\\\n",
    "&=\\frac{1}{3}+\\frac{1}{4}=\\frac{7}{12} &&=\\frac{1}{3}+\\frac{1}{4}=\\frac{7}{12}\n",
    "\\end{align}\n",
    "$$"
   ]
  },
  {
   "cell_type": "markdown",
   "metadata": {},
   "source": [
    "**_2.5_** Find $P(X>0.5\\vert Y\\leq 0.5)$. "
   ]
  },
  {
   "cell_type": "markdown",
   "metadata": {},
   "source": [
    "$$\n",
    "\\begin{align}\n",
    "P\\left(X>0.5\\vert Y\\leq 0.5\\right)&=\\frac{P\\left(X>0.5 \\text{ and } Y\\leq0.5\\right)}{P\\left(Y\\leq0.5\\right)}\\\\\n",
    "&=\\frac{\\int_{0.5}^1\\int_0^{0.5}f_{X,Y}\\left(x,y\\right)dydx}{\\int_0^{0.5}f_Y\\left(y\\right)dy}\\\\\n",
    "&=\\frac{\\int_{0.5}^1\\int_0^{0.5}\\left(x+y\\right)dydx}{\\int_0^{0.5}\\left(\\frac{1}{2}+y\\right)dy}\\\\\n",
    "&=\\frac{\\int_{0.5}^1\\left(xy+\\frac{1}{2}y^2\\right)\\vert_0^{0.5}dx}{\\left(\\frac{1}{2}y+\\frac{1}{2}y^2\\right)|_0^{0.5}}\\\\\n",
    "&=\\frac{\\int_{0.5}^1\\left(\\frac{1}{2}x+\\frac{1}{8}\\right)dx}{\\left(\\frac{1}{4}+\\frac{1}{8}\\right)}\\\\\n",
    "&=\\frac{\\left(\\frac{1}{4}x^2+\\frac{1}{8}x\\right)|_{0.5}^1}{\\frac{3}{8}}\\\\\n",
    "&=\\frac{8}{3}\\left(\\left(\\frac{1}{4}+\\frac{1}{8}\\right)-\\left(\\frac{1}{16}+\\frac{1}{16}\\right)\\right)\\\\\n",
    "&=\\left(\\frac{8}{3}\\right)\\left(\\frac{1}{4}\\right)=\\frac{2}{3}\n",
    "\\end{align}\n",
    "$$"
   ]
  },
  {
   "cell_type": "markdown",
   "metadata": {},
   "source": [
    "**_2.6_** Find the conditional distributions of $X|Y$ and $Y|X$. Recall that conditional distributions can be found by dividing the joint pdf by the relevant marginal pdf. \n",
    "\n",
    "**_2.7_** Find $E(X|Y)$ and $E(Y|X)$."
   ]
  },
  {
   "cell_type": "markdown",
   "metadata": {},
   "source": [
    "*2.6)*\n",
    "$$\n",
    "\\begin{align}\n",
    "f_{X|Y}\\left(x\\right)&=\\frac{f_{X,Y}\\left(x,y\\right)}{f_Y\\left(y\\right)} &f_{Y|X}\\left(y\\right)&=\\frac{f_{X,Y}\\left(x,y\\right)}{f_X\\left(x\\right)}\\\\\n",
    "&=\\frac{x+y}{\\frac{1}{2}+y} &&=\\frac{x+y}{\\frac{1}{2}+x}\n",
    "\\end{align}\n",
    "$$\n",
    "\n",
    "*2.7)*\n",
    "$$\n",
    "\\begin{align}\n",
    "E\\left(X|Y\\right)&=\\int_0^1 x f_{X|Y}\\left(x\\right)dx &E\\left(Y|X\\right)&=\\int_0^1 y f_{X|Y}\\left(y\\right)dy\\\\\n",
    "&=\\int_0^1 x\\left(\\frac{x+y}{\\frac{1}{2}+y}\\right)dx &&=\\int_0^1 y\\left(\\frac{x+y}{\\frac{1}{2}+x}\\right)dy\\\\\n",
    "&=\\frac{1}{\\frac{1}{2}+y}\\int_0^1\\left(x^2+xy\\right)dx &&=\\frac{1}{\\frac{1}{2}+x}\\int_0^1\\left(y^2+xy\\right)dy\\\\\n",
    "&=\\frac{1}{\\frac{1}{2}+y} \\left(\\frac{1}{3}x^3+\\frac{1}{2}x^2y\\right)|_0^1 &&=\n",
    "    \\frac{1}{\\frac{1}{2}+x} \\left(\\frac{1}{3}y^3+\\frac{1}{2}y^2x\\right)|_0^1\\\\\n",
    "&=\\frac{\\frac{1}{3}+\\frac{1}{2}y}{\\frac{1}{2}+y} &&=\\frac{\\frac{1}{3}+\\frac{1}{2}x}{\\frac{1}{2}+x}\\\\\n",
    "&=\\frac{2+3y}{3+6y} &&=\\frac{2+3x}{3+6x}\n",
    "\\end{align}\n",
    "$$"
   ]
  },
  {
   "cell_type": "markdown",
   "metadata": {},
   "source": [
    "**_2.8_** Are $X$ and $Y$ independent? "
   ]
  },
  {
   "cell_type": "markdown",
   "metadata": {},
   "source": [
    "*No, since $f_{X|Y}(x)\\neq f_{X}(x)$ and $f_{Y|X}(y)\\neq f_{Y}(y)$, we know that both $X$ and $Y$ depend on each other.*\n",
    "\n",
    "*Note to self: if $f_{X,Y}(x,y)$ is separable into $g(x)h(y)$, $X$ & $Y$ are independet!*"
   ]
  },
  {
   "cell_type": "markdown",
   "metadata": {},
   "source": [
    "**_2.9_** What is $Cov(X,Y)$? "
   ]
  },
  {
   "cell_type": "markdown",
   "metadata": {},
   "source": [
    "$$\n",
    "\\begin{align}\n",
    "E\\left(XY\\right)&=\\int\\int xyf_{X,Y}\\left(x,y\\right)dxdy &Cov\\left(X,Y\\right)&=E\\left(XY\\right)=E\\left(X\\right)E\\left(Y\\right)\\\\\n",
    "&=\\int_0^1\\int_0^1 xy\\left(x+y\\right)dxdy &&=\\frac{1}{3}-\\left(\\frac{7}{12}\\right)\\left(\\frac{7}{12}\\right)\\\\\n",
    "&=\\int_0^1\\int_0^1\\left(x^2y+xy^2\\right)dxdy &&=\\frac{48}{144}-\\frac{49}{144}\\\\\n",
    "&=\\int_0^1\\left(\\frac{1}{3}x^3y+\\frac{1}{2}x^2y^2\\right)|_0^1dy &&=\\frac{-1}{144}\\\\\n",
    "&=\\int_0^1\\left(\\frac{1}{3}y+\\frac{1}{2}y^2\\right)dy\\\\\n",
    "&=\\left(\\frac{1}{6}y^2+\\frac{1}{6}y^3\\right)|_0^1\\\\\n",
    "&=\\frac{1}{6}+\\frac{1}{6}=\\frac{1}{3}\n",
    "\\end{align}\n",
    "$$"
   ]
  },
  {
   "cell_type": "code",
   "execution_count": null,
   "metadata": {},
   "outputs": [],
   "source": []
  }
 ],
 "metadata": {
  "kernelspec": {
   "display_name": "Python 3",
   "language": "python",
   "name": "python3"
  },
  "language_info": {
   "codemirror_mode": {
    "name": "ipython",
    "version": 3
   },
   "file_extension": ".py",
   "mimetype": "text/x-python",
   "name": "python",
   "nbconvert_exporter": "python",
   "pygments_lexer": "ipython3",
   "version": "3.6.5"
  }
 },
 "nbformat": 4,
 "nbformat_minor": 2
}
