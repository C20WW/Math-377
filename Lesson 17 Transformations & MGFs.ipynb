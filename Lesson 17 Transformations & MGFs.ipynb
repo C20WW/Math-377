{
 "cells": [
  {
   "cell_type": "code",
   "execution_count": 1,
   "metadata": {},
   "outputs": [],
   "source": [
    "from datascience import *\n",
    "import numpy as np\n",
    "from math import *"
   ]
  },
  {
   "cell_type": "markdown",
   "metadata": {},
   "source": [
    "## Transformations"
   ]
  },
  {
   "cell_type": "markdown",
   "metadata": {},
   "source": [
    "In some cases, we may be interested in the distribution of a transformation of a random variable. For example, if we know the distribution of $X$, we may wish to know the distribution of $X^2$ or $2X$. \n",
    "\n",
    "It helps to consider the pmf/cdf of the original random variables. Let $Y=t(X)$ where $X$ is discrete:\n",
    "\n",
    "$$\n",
    "f_Y(y)=P(Y=y) = P(t(X)=y) = P( X = t^{-1}(y))\n",
    "$$\n",
    "\n",
    "In the continuous case, let's consider the cdf:\n",
    "\n",
    "$$\n",
    "F_Y(y)=P(Y\\leq y) = P(t(X)\\leq y) = P(X \\leq t^{-1}(y)) = F_X(t^{-1}(y))\n",
    "$$"
   ]
  },
  {
   "cell_type": "markdown",
   "metadata": {},
   "source": [
    "### Discrete"
   ]
  },
  {
   "cell_type": "markdown",
   "metadata": {},
   "source": [
    "#### Example 1\n",
    "\n",
    "Suppose the pmf for $X$ is given by the following table: \n",
    "\n",
    " | value of $X$  | -2 | -1 | 0 | 1 | 2 | \n",
    " | ------ | ------ | ----- | ----- | ----- | ----- |\n",
    " | probability | 0.05 | 0.10 | 0.35 | 0.30 | 0.20 |\n",
    "\n",
    "Find the distribution of $X^2$ and calculate $E(X^2)$. Does $E(X^2) = [E(X)]^2$? "
   ]
  },
  {
   "cell_type": "markdown",
   "metadata": {},
   "source": [
    "*Answer 1:*\n",
    "\n",
    "$$E(X) = -0.1 - 0.1 + 0.3 + 0.4 = 0.5$$\n",
    "\n",
    " | value of $X^2$  | 0 | 1 | 4 |\n",
    " | ------ | ------ | ----- | ----- |\n",
    " | probability | 0.35 | 0.40 | 0.25 |\n",
    "\n",
    "$$E\\left(X^2\\right) = 0.4 + 1.0 = 1.4$$\n",
    "\n",
    "$$E\\left(X^2\\right) \\neq E(X)^2$$"
   ]
  },
  {
   "cell_type": "markdown",
   "metadata": {},
   "source": [
    "#### Example 2\n",
    "Let $X \\sim \\textsf{Binom}(n,p)$. What is the pmf for $X+3$? Make sure you specify the domain of $X+3$. "
   ]
  },
  {
   "cell_type": "markdown",
   "metadata": {},
   "source": [
    "*Answer 2:*\n",
    "\n",
    "$$Y=X+3\\\\Y-3=X$$\n",
    "\n",
    "$$f_Y(y;n,p)=f_X(y-3;n,p)\\\\\n",
    "f_Y(y;n,p)={n\\choose {y-3}}p^{y-3}(1-p)^{n-(y-3)}\\\\\n",
    "\\text{where } y=3,4,5,...,n+3$$"
   ]
  },
  {
   "cell_type": "markdown",
   "metadata": {},
   "source": [
    "#### Example 3\n",
    "\n",
    "Let $X \\sim \\textsf{Unif}(0,1)$. Let $Y=X^2$. Find the **pdf** of $Y$. Again, specify the domain of $Y$. "
   ]
  },
  {
   "cell_type": "markdown",
   "metadata": {},
   "source": [
    "$$\n",
    "f_X\\left(x\\right) = \\left\\{\\begin{array}{ll}\n",
    "            1 & \\quad 0 \\leq x \\leq 1 \\\\\n",
    "            0 & \\quad \\text{o/w}\n",
    "        \\end{array}\\right.\n",
    "$$\n",
    "\n",
    "$$F_X\\left(x\\right)=P\\left(X<=x\\right)=\\int_0^x{1dz}=z|_0^x=x~where~0<=x<=1$$\n",
    "\n",
    "$$F_Y\\left(y\\right) = P\\left(Y<=y\\right)=P\\left(X^2<=y\\right)=P\\left(X<=\\sqrt{y}\\right)=F_x\\left(\\sqrt{y}\\right)=\\sqrt{y}$$\n",
    "\n",
    "$$f_Y\\left(y\\right)=\\frac{d}{dy}\\sqrt{y}=\\frac{1}{2\\sqrt{y}}\\text{ where }0<=y<=1$$"
   ]
  },
  {
   "cell_type": "markdown",
   "metadata": {},
   "source": [
    "## Moment Generating Functions (MGF)"
   ]
  },
  {
   "cell_type": "markdown",
   "metadata": {},
   "source": [
    "One powerful concept in probability is the moment generating function (mgf). Let $X$ be a random variable. The mgf of $X$ is denoted by $M_X(t)$. This function is powerful because it can be used as a shortcut to find the $k$th central moment. Specifically,\n",
    "\n",
    "$$\n",
    "E(X^k) = \\frac{d^k}{dt^k} M_X(t) \\bigg |_{t=0}\n",
    "$$\n",
    "\n",
    "If you know the moment generating function of $X$, you can simply take the derivative of it with respect to $t$, evaluate at $t=0$ and the result is the expected value of $X$, $E(X)$. \n",
    "\n",
    "The mgf of $X$ is found by\n",
    "\n",
    "$$\n",
    "M_X(t) = E(e^{tX})\n",
    "$$\n",
    "\n",
    "#### Example 4: \n",
    "\n",
    "Let $X$ be a random variable with the exponential distribution with parameter $\\lambda >0$. Recall that $f_X(x) = \\lambda e^{-\\lambda x}$, for $x>0$. Find the mgf of $X$. Use it to verify that $E(X) = \\frac{1}{\\lambda}$. \n",
    "\n"
   ]
  },
  {
   "cell_type": "markdown",
   "metadata": {},
   "source": [
    "$$\n",
    "\\begin{align}\n",
    "M_X\\left(t\\right) &= E\\left(e^{tX}\\right) &E\\left(X^1\\right)&=\\frac{d^1}{dt^1}M_X\\left(t\\right) \\bigg |_{t=0}\\\\\n",
    "&=\\int_x e^{tx}f_X\\left(x\\right)dx &E\\left(X\\right)&=\\frac{d}{dt}\\left(\\frac{\\lambda}{\\lambda-t}\\right)\\bigg |_{t=0}\\\\\n",
    "&=\\int_0^\\infty e^{tx}\\lambda e^{-\\lambda x}dx &&=\\lambda\\left(-1\\right)\\left(\\lambda-t\\right)^{-2}\\left(-1\\right) \\bigg |_{t=0}\\\\\n",
    "&=\\lambda \\int_0^\\infty e^{-x\\left(\\lambda-t\\right)}dx &&=\\frac{\\lambda}{\\lambda^2}\\\\\n",
    "&=\\lambda \\frac{-1}{\\lambda-t} e^{-x\\left(\\lambda-t\\right)} \\bigg |_{x=0}^\\infty &&=\\frac{1}{\\lambda}\\\\\n",
    "&=\\frac{-\\lambda}{\\lambda-t} \\left(0-e^0\\right)\\\\\n",
    "&=\\frac{\\lambda}{\\lambda-t}\n",
    "\\end{align}\n",
    "$$"
   ]
  },
  {
   "cell_type": "markdown",
   "metadata": {},
   "source": [
    "#### Example 5:\n",
    "\n",
    "The moment generating function of a random variable with the binomial distribution (with parameters $n$ and $p$) is given by $M_X(t) = (pe^t + 1 - p)^n$. Use the mgf to verify that $E(X)=np$ and $V(X)=np(1-p)$. Note that $V(X)=E(X^2)-[E(X)]^2$. "
   ]
  },
  {
   "cell_type": "markdown",
   "metadata": {},
   "source": [
    "$$\n",
    "\\begin{align}\n",
    "E\\left(X^1\\right)&=\\frac{d^1}{dt^1}M_X\\left(t\\right) \\bigg |_{t=0} &E\\left(X^2\\right)&=\\frac{d^2}{dt^2}M_X\\left(t\\right) \\bigg |_{t=0}\\\\\n",
    "E\\left(X\\right)&=\\frac{d}{dt}\\left(pe^t+1-p\\right)^n \\bigg |_{t=0} &&=\\frac{d^2}{dt^2}\\left(pe^t+1-p\\right)^n \\bigg |_{t=0}\\\\\n",
    "&=n\\left(pe^t+1-p\\right)^{n-1}\\left(pe^t+0-0\\right)  \\bigg |_{t=0} &&=\\frac{d}{dt}\\left(n\\left(pe^t+1-p\\right)^{n-1}pe^t\\right) \\bigg |_{t=0}\\\\\n",
    "&=n\\left(pe^0+1-p\\right)^{n-1}pe^0 &&=np\\left(e^t\\frac{d}{dt}\\left(pe^t+1-p\\right)^{n-1}+\\left(pe^t+1-p\\right)^{n-1}\\frac{d}{dt}\\left(e^t\\right)\\right) \\bigg |_{t=0}\\\\\n",
    "&=n\\left(p+1-p\\right)^{n-1}p &&=np\\left(e^t\\left(n-1\\right)\\left(pe^t+1-p\\right)^{n-2}pe^t+\\left(pe^t+1-p\\right)^{n-1}e^t\\right) \\bigg |_{t=0}\\\\\n",
    "&=n\\left(1\\right)^{n-1}p &&=np\\left(\\left(1\\right)\\left(n-1\\right)\\left(1\\right)p+\\left(1\\right)\\left(1\\right)\\right)\\\\\n",
    "&=np &&=np-np^2+n^2p^2\n",
    "\\end{align}\n",
    "$$\n",
    "\n",
    "$$\n",
    "\\begin{align}\n",
    "V\\left(X\\right)&=E\\left(X^2\\right)-\\left(E\\left(X\\right)\\right)^2\\\\\n",
    "&=\\left(np-np^2+n^2p^2\\right)-\\left(np\\right)^2\\\\\n",
    "&=np\\left(1-p\\right)\n",
    "\\end{align}\n",
    "$$"
   ]
  },
  {
   "cell_type": "markdown",
   "metadata": {},
   "source": [
    "### Important Results\n",
    "\n",
    "1) Let $X$ and $Y$ be random variables with mgfs $M_X$ and $M_Y$. $X$ and $Y$ are said to be identically distributed if and only if $M_X(t) = M_Y(t)$ for all $t$ in som**e** interval containing 0. \n",
    "\n",
    "2) MGF of linear transformation of random variable: If $a$ and $b$ are constants, then \n",
    "\n",
    "$$\n",
    "M_{aX+b}(t) = e^{bt}M_X(at)\n",
    "$$\n",
    "\n",
    "3) MGF of sum of independent random variables: If $X$ and $Y$ are independent random variables with mgfs $M_X$ and $M_Y$, then\n",
    "\n",
    "$$\n",
    "M_{X+Y}(t)=M_X(t) \\cdot M_Y(t)\n",
    "$$\n",
    "\n",
    " "
   ]
  },
  {
   "cell_type": "markdown",
   "metadata": {},
   "source": [
    "#### Example 6 \n",
    "\n",
    "Let $X \\sim \\textsf{Exp}(\\lambda)$. Find the distribution of $Y=3X$."
   ]
  },
  {
   "cell_type": "markdown",
   "metadata": {},
   "source": [
    "$$\n",
    "\\begin{align}\n",
    "F_X\\left(x\\right)&=\\int_0^xf_z\\left(z\\right)dz\\\\\n",
    "&=\\int_0^x\\lambda e^{-\\lambda z}dz\\\\\n",
    "&=\\lambda\\frac{-1}{\\lambda}e^{-\\lambda z}|_0^x\\\\\n",
    "&=-e^{-\\lambda x}+e^0\\\\\n",
    "&=1-e^{-\\lambda x}\n",
    "\\end{align}\n",
    "$$\n",
    "\n",
    "\n",
    "$$\n",
    "\\begin{align}\n",
    "F_Y\\left(y\\right)&=P\\left(Y<=y\\right)=P\\left(3X<=y\\right)\\\\&=P\\left(X<=\\frac{y}{3}\\right)=F_X\\left(\\frac{y}{3}\\right)\\\\\n",
    "&=1-e^{-\\lambda\\frac{y}{3}}\n",
    "\\end{align}\n",
    "$$\n",
    "\n",
    "$$\n",
    "\\begin{align}\n",
    "f_Y\\left(y\\right)&=\\frac{d}{dy}F_Y\\left(y\\right)\\\\\n",
    "&=\\frac{d}{dy}F_X\\left(\\frac{y}{3}\\right)\\\\\n",
    "&=\\frac{d}{dy}\\left(1-e^{-\\lambda\\frac{y}{3}}\\right)\\\\\n",
    "&=0-\\left(\\frac{-\\lambda}{3}\\right)e^{\\frac{-\\lambda y}{3}}\\\\\n",
    "&=\\left(\\frac{\\lambda}{3}\\right)e^{\\frac{-\\lambda y}{3}}\\\\\n",
    "\\end{align}\n",
    "$$"
   ]
  },
  {
   "cell_type": "markdown",
   "metadata": {},
   "source": [
    "#### Example 7 \n",
    "\n",
    "Suppose $X_1, X_2, ..., X_n$ are independent identically distributed $\\textsf{Norm}(\\mu,\\sigma)$. Find the distribution of $S=X_1+X_2+...+X_n$ and $\\bar{X} = \\frac{X_1+X_2+...+X_n}{n}$. Note that the mgf of a normally distributed random variable is $M_X(t)=e^{\\mu t+\\sigma^2 t^2/2}$."
   ]
  },
  {
   "cell_type": "markdown",
   "metadata": {},
   "source": [
    "$$\n",
    "\\begin{align}\n",
    "M_{X_1+X_2+...+X_n}\\left(t\\right)&=M_{X_1}\\left(t\\right)\\cdot M_{X_2}\\left(t\\right)\\cdot ... \\cdot M_{X_n}\\left(t\\right)\\\\\n",
    "M_S\\left(t\\right)&=e^{\\mu t+\\sigma^2 t^2/2}\\cdot e^{\\mu t+\\sigma^2 t^2/2} \\cdot ... \\cdot e^{\\mu t+\\sigma^2 t^2/2}\\\\\n",
    "&=e^{n\\left(\\mu t+\\sigma^2 t^2/2\\right)}\\\\\n",
    "&=e^{\\left(\\mu n\\right) t+\\left(\\sigma \\sqrt{n}\\right)^2 t^2/2}\n",
    "\\end{align}\n",
    "$$\n",
    "\n",
    "$ $\n",
    "\n",
    "$$\n",
    "\\begin{align}\n",
    "\\bar{X}&=\\frac{X_1+X_2+...+X_n}{n}\\\\\n",
    "&=\\frac{S}{n}=\\frac{1}{n}S+0\n",
    "\\end{align}\n",
    "$$\n",
    "\n",
    "$$\n",
    "\\begin{align}\n",
    "M_{\\frac{1}{n}S+0}\\left(t\\right)&=e^{\\left(0\\right)t}M_S\\left(\\frac{1}{n}t\\right)\\\\\n",
    "M_\\bar{X}\\left(t\\right)&=M_S\\left(\\frac{t}{n}\\right)\\\\\n",
    "&=e^{\\mu n\\left(\\frac{t}{n}\\right) +\\sigma^2 n \\left(\\frac{t}{n}\\right)^2/2}\\\\\n",
    "&=e^{\\mu t +\\left(\\frac{\\sigma}{\\sqrt{n}}\\right)^2 t^2/2}\n",
    "\\end{align}\n",
    "$$\n",
    "\n",
    "*Thus,* $S$~$\\text{Norm}\\left(\\mu n, \\sigma \\sqrt{n}\\right)$ *and* $\\bar{X}$~$\\text{Norm}\\left(\\mu, \\frac{\\sigma}{\\sqrt{n}}\\right)$"
   ]
  },
  {
   "cell_type": "code",
   "execution_count": null,
   "metadata": {},
   "outputs": [],
   "source": []
  }
 ],
 "metadata": {
  "kernelspec": {
   "display_name": "Python 3",
   "language": "python",
   "name": "python3"
  },
  "language_info": {
   "codemirror_mode": {
    "name": "ipython",
    "version": 3
   },
   "file_extension": ".py",
   "mimetype": "text/x-python",
   "name": "python",
   "nbconvert_exporter": "python",
   "pygments_lexer": "ipython3",
   "version": "3.6.5"
  }
 },
 "nbformat": 4,
 "nbformat_minor": 2
}
